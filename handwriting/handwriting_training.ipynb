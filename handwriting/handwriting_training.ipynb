{
 "cells": [
  {
   "cell_type": "markdown",
   "id": "ea602cf0",
   "metadata": {},
   "source": [
    "# Author: Tim Harmling and Alexej Kravtschenko\n",
    "- **Note:** This notebook was written by the combined effort of Tim Harmling and Alexej Kravtschenko \n",
    "- **Description:** With this notebook you can train your own handwriting model form scratch or use an existing model for transfer learning"
   ]
  },
  {
   "cell_type": "markdown",
   "id": "e1502b4cfa6e7903",
   "metadata": {
    "collapsed": false
   },
   "source": [
    "## Imports"
   ]
  },
  {
   "cell_type": "code",
   "execution_count": null,
   "id": "136c81f63399a8a3",
   "metadata": {
    "ExecuteTime": {
     "end_time": "2024-01-27T17:34:02.165306500Z",
     "start_time": "2024-01-27T17:33:59.386305800Z"
    }
   },
   "outputs": [],
   "source": [
    "# Unsere Klassen\n",
    "import load_data\n",
    "import preprocess\n",
    "import handwriting.models as models # Use: build_model9v3(img_width, img_height, char) \n",
    "import utils.configs as Config\n",
    "#Imports\n",
    "import tensorflow as tf\n",
    "from tensorflow import keras\n",
    "from keras.callbacks import ReduceLROnPlateau, EarlyStopping\n",
    "import matplotlib.pyplot as plt\n",
    "from matplotlib.ticker import StrMethodFormatter\n",
    "import numpy as np\n",
    "import pathlib\n",
    "import time\n",
    "import os\n",
    "import re"
   ]
  },
  {
   "cell_type": "markdown",
   "id": "7442b33bf1c3d535",
   "metadata": {},
   "source": [
    "## Config"
   ]
  },
  {
   "cell_type": "code",
   "execution_count": null,
   "id": "e90013526b312f4b",
   "metadata": {
    "ExecuteTime": {
     "end_time": "2024-01-27T17:34:02.181305300Z",
     "start_time": "2024-01-27T17:34:02.169305Z"
    },
    "collapsed": false
   },
   "outputs": [],
   "source": [
    "config_path = \"../utils/configs.json\"\n",
    "config = Config.Config(config_path)\n",
    "\n",
    "# Model Parameter\n",
    "MODEL_SAVE = bool(config.get_model_parameter()[\"save\"])\n",
    "MODEL_NAME = config.get_model_parameter()[\"name\"]\n",
    "IMAGE_WIDTH = config.get_model_parameter()[\"width\"] # default: 1024\n",
    "IMAGE_HEIGHT = config.get_model_parameter()[\"height\"] # default: 128\n",
    "\n",
    "# Directory Parameter\n",
    "MODEL_DIR_NAME = pathlib.Path(os.getcwd()).joinpath(config.get_directory_parameter()[\"model_dir\"])\n",
    "TEST_RESULT_DIR_NAME = pathlib.Path(os.getcwd()).joinpath(config.get_directory_parameter()[\"test_dir\"])\n",
    "DATA_BASE_PATH = config.get_directory_parameter()[\"data_base_path\"]\n",
    "\n",
    "# Training Parameter\n",
    "SAVE_HISTORY = bool(config.get_training_parameter()[\"save_history\"])\n",
    "EPOCHS = config.get_training_parameter()[\"epochs\"]\n",
    "BATCH_SIZE = config.get_training_parameter()[\"batch_size\"] # default: Between 32 - 48\n",
    "TF_SEED = config.get_training_parameter()[\"tf_seed\"] # default: 42\n",
    "LEARNING_RATE = config.get_training_parameter()[\"learning_rate\"]\n",
    "PATIENCE = config.get_training_parameter()[\"patience\"] # default: 10"
   ]
  },
  {
   "cell_type": "markdown",
   "id": "e76747d5c3df28a1",
   "metadata": {
    "collapsed": false
   },
   "source": [
    "## Load Data"
   ]
  },
  {
   "cell_type": "code",
   "execution_count": null,
   "id": "c56f7a5dd3423ea5",
   "metadata": {
    "ExecuteTime": {
     "end_time": "2024-01-27T17:34:02.225306500Z",
     "start_time": "2024-01-27T17:34:02.183307400Z"
    }
   },
   "outputs": [],
   "source": [
    "# Default: seed = 42\n",
    "# np.random.seed(TF_SEED)\n",
    "# tf.random.set_seed(TF_SEED)\n",
    "\n",
    "# Random\n",
    "#seed = random.randint(1, 1000)\n",
    "#np.random.seed(seed)\n",
    "#tf.random.set_seed(seed)\n",
    "\n",
    "print(LEARNING_RATE)\n",
    "print(TF_SEED)"
   ]
  },
  {
   "cell_type": "code",
   "execution_count": null,
   "id": "3d944e31ec1a2605",
   "metadata": {
    "ExecuteTime": {
     "end_time": "2024-01-27T17:34:02.227307300Z",
     "start_time": "2024-01-27T17:34:02.199306400Z"
    }
   },
   "outputs": [],
   "source": [
    "load_data.print_samples(DATA_BASE_PATH)\n",
    "x_train_img_paths, y_train_labels = load_data.get_train_data()\n",
    "x_test_img_paths, y_test_labels = load_data.get_test_data()\n",
    "x_val_img_paths, y_val_labels = load_data.get_validation_data()"
   ]
  },
  {
   "cell_type": "code",
   "execution_count": null,
   "id": "e47068232ecdc7a2",
   "metadata": {
    "ExecuteTime": {
     "end_time": "2024-01-27T17:34:02.251307300Z",
     "start_time": "2024-01-27T17:34:02.213306300Z"
    },
    "collapsed": false
   },
   "outputs": [],
   "source": [
    "data_to_save = (load_data.max_len, load_data.characters)\n",
    "import pickle\n",
    "with open('number.pkl', 'wb') as file:\n",
    "    pickle.dump(data_to_save, file)"
   ]
  },
  {
   "cell_type": "code",
   "execution_count": null,
   "id": "bca2b7995883e4f0",
   "metadata": {
    "ExecuteTime": {
     "end_time": "2024-01-27T17:34:02.252306700Z",
     "start_time": "2024-01-27T17:34:02.228307600Z"
    }
   },
   "outputs": [],
   "source": [
    "print(f\"Training path: {x_train_img_paths[0:2]}\", y_train_labels[0:2])\n",
    "print(f\"Validation path: {x_val_img_paths[0:2]}\", y_val_labels[0:2])\n",
    "print(f\"Testing path: {x_test_img_paths[0:2]}\", y_test_labels[0:2])"
   ]
  },
  {
   "cell_type": "markdown",
   "id": "93ab75f6db361259",
   "metadata": {
    "collapsed": false
   },
   "source": [
    "## Create Dataset"
   ]
  },
  {
   "cell_type": "code",
   "execution_count": null,
   "id": "6a385c9dcb30be19",
   "metadata": {
    "ExecuteTime": {
     "end_time": "2024-01-27T17:34:02.650306600Z",
     "start_time": "2024-01-27T17:34:02.246307100Z"
    }
   },
   "outputs": [],
   "source": [
    "# Has to be here because load data functions need to be called before\n",
    "import tokenizer\n",
    "import custom_image_generator as cgi\n",
    "\n",
    "# takes eternity\n",
    "#x_train, y_train = tokenizer.prepare_data(x_train_img_paths, y_train_labels) \n",
    "#x_test, y_test = tokenizer.prepare_data(x_test_img_paths, y_test_labels)\n",
    "\n",
    "#train_generator = cgi.CustomImageGenerator(x_train_img_paths, y_train_labels, BATCH_SIZE, IMAGE_WIDTH, IMAGE_HEIGHT)\n",
    "\n",
    "train_ds = tokenizer.prepare_dataset(x_train_img_paths, y_train_labels, (IMAGE_WIDTH,IMAGE_HEIGHT),BATCH_SIZE)\n",
    "val_ds = tokenizer.prepare_dataset(x_val_img_paths, y_val_labels,(IMAGE_WIDTH,IMAGE_HEIGHT),BATCH_SIZE)\n",
    "test_ds = tokenizer.prepare_dataset(x_test_img_paths, y_test_labels,(IMAGE_WIDTH,IMAGE_HEIGHT),BATCH_SIZE)\n",
    "#aug_train_ds = tokenizer.prepare_augmented_dataset(x_train_img_paths, y_train_labels, BATCH_SIZE)"
   ]
  },
  {
   "cell_type": "code",
   "execution_count": null,
   "id": "ddb8e1b291554851",
   "metadata": {
    "ExecuteTime": {
     "end_time": "2024-01-27T17:34:02.665307100Z",
     "start_time": "2024-01-27T17:34:02.644306300Z"
    },
    "collapsed": false
   },
   "outputs": [],
   "source": [
    "print(IMAGE_HEIGHT)"
   ]
  },
  {
   "cell_type": "markdown",
   "id": "7320fbb2c02999f8",
   "metadata": {
    "collapsed": false
   },
   "source": [
    "## Show Examples"
   ]
  },
  {
   "cell_type": "code",
   "execution_count": null,
   "id": "e8dcf82c6677caa4",
   "metadata": {
    "ExecuteTime": {
     "end_time": "2024-01-27T17:34:03.346305700Z",
     "start_time": "2024-01-27T17:34:02.663308500Z"
    }
   },
   "outputs": [],
   "source": [
    "for data in train_ds.take(1):\n",
    "    images, labels = data[\"image\"], data[\"label\"]\n",
    "\n",
    "    ax = plt.subplots(4, 4, figsize=(32, 8))[1]\n",
    "\n",
    "    for i in range(16):\n",
    "        img = images[i]\n",
    "        img = tf.image.flip_left_right(img)\n",
    "        img = tf.transpose(img, perm=[1, 0, 2])\n",
    "        img = (img * 255.0).numpy().clip(0, 255).astype(np.uint8)\n",
    "        img = img[:, :, 0]\n",
    "\n",
    "        # Gather indices where label!= padding_token.\n",
    "        label = labels[i]\n",
    "        indices = tf.gather(label, tf.where(tf.math.not_equal(label, tokenizer.padding_token)))\n",
    "        # Convert to string.\n",
    "        label = tf.strings.reduce_join(tokenizer.num_to_char(indices))\n",
    "        label = label.numpy().decode(\"utf-8\")\n",
    "\n",
    "        ax[i // 4, i % 4].imshow(img, cmap=\"gray\")\n",
    "        ax[i // 4, i % 4].set_title(label)\n",
    "        ax[i // 4, i % 4].axis(\"off\")\n",
    "\n",
    "plt.show()"
   ]
  },
  {
   "cell_type": "code",
   "execution_count": null,
   "id": "27d130b9de7a51fd",
   "metadata": {
    "ExecuteTime": {
     "end_time": "2024-01-27T17:34:04.764305800Z",
     "start_time": "2024-01-27T17:34:03.352308400Z"
    }
   },
   "outputs": [],
   "source": [
    "data_augmentation = keras.Sequential(\n",
    "    [\n",
    "        tf.keras.layers.RandomBrightness(0.5,value_range=(0, 1), seed=TF_SEED),\n",
    "        tf.keras.layers.RandomContrast(0.5,seed=TF_SEED)\n",
    "    ]\n",
    ")\n",
    "\n",
    "for data in train_ds.take(1):\n",
    "    images, labels = data[\"image\"], data[\"label\"]\n",
    "\n",
    "# Display the original image\n",
    "plt.figure(figsize=(8, 8))\n",
    "plt.subplot(1, 4, 1)\n",
    "plt.imshow(images[0].numpy(), cmap='gray', vmin=0, vmax=1)\n",
    "plt.title(\"Original Image\")\n",
    "\n",
    "# Apply data augmentation to the image\n",
    "augmented_images = data_augmentation(images, training=True)\n",
    "\n",
    "# Display the augmented images\n",
    "for i in range(3):\n",
    "    plt.subplot(1, 4, i + 2)\n",
    "    plt.imshow(augmented_images[i].numpy(), cmap='gray', vmin=0, vmax=1)\n",
    "    plt.title(f\"Augmented Image {i+1}\")\n",
    "    \n",
    "plt.show()"
   ]
  },
  {
   "cell_type": "markdown",
   "id": "72b04141fedb9fc1",
   "metadata": {
    "collapsed": false
   },
   "source": [
    "# Train Keras Model"
   ]
  },
  {
   "cell_type": "code",
   "execution_count": null,
   "id": "d8272653bffdfec3",
   "metadata": {
    "ExecuteTime": {
     "end_time": "2024-01-27T17:34:04.806305Z",
     "start_time": "2024-01-27T17:34:04.765306300Z"
    },
    "collapsed": false
   },
   "outputs": [],
   "source": [
    "weights_keras_string =\"_weights.keras\"\n",
    "\n",
    "def model_load_weights_if_exists(model):\n",
    "    \"\"\"Loads model weights if they exist.\n",
    "\n",
    "    This function checks if the model weights exist and loads them into the model.\n",
    "\n",
    "    Args:\n",
    "        model: The Keras model.\n",
    "\n",
    "    Returns:\n",
    "        None\n",
    "    \"\"\"\n",
    "    MODEL_MODEL_PATH = MODEL_NAME\n",
    "    MODEL_WEIGHT_PATH = MODEL_NAME + weights_keras_string\n",
    "    model_path = os.path.join(MODEL_DIR_NAME, MODEL_MODEL_PATH)\n",
    "    model_weight_path = os.path.join(model_path, MODEL_WEIGHT_PATH)\n",
    "    print(model_path)\n",
    "    if os.path.exists(model_path):\n",
    "        print(\"Resuming Training where we left off!\")\n",
    "        model.load_weights(model_weight_path)"
   ]
  },
  {
   "cell_type": "code",
   "execution_count": null,
   "id": "bba57699ddc83798",
   "metadata": {
    "ExecuteTime": {
     "end_time": "2024-01-27T17:34:04.807304700Z",
     "start_time": "2024-01-27T17:34:04.781307100Z"
    }
   },
   "outputs": [],
   "source": [
    "def train_model(model):\n",
    "    \"\"\"Trains the model and returns prediction model and training history.\n",
    "\n",
    "    This function trains the provided model using the training and validation datasets.\n",
    "    It also returns a prediction model and training history.\n",
    "\n",
    "    Args:\n",
    "        model: The Keras model to be trained.\n",
    "\n",
    "    Returns:\n",
    "        prediction_model: The model used for predictions.\n",
    "        history: The training history.\n",
    "    \"\"\"\n",
    "    #model_load_weights_if_exists(model) # Uncomment this line for transfer learning\n",
    "        \n",
    "    prediction_model = keras.models.Model(model.get_layer(name=\"image\").input, model.get_layer(name=\"dense2\").output)\n",
    "    early_stopping = EarlyStopping(patience=PATIENCE, restore_best_weights=True)\n",
    "\n",
    "    reduce_lr = ReduceLROnPlateau(monitor='val_loss', factor=0.2, patience=PATIENCE * 0.2, min_lr=1e-6, verbose=1)\n",
    "    history = model.fit(train_ds, validation_data=val_ds, epochs=EPOCHS, callbacks=[reduce_lr, early_stopping])    \n",
    "    return prediction_model, history"
   ]
  },
  {
   "cell_type": "code",
   "execution_count": null,
   "id": "87c5ee96331da27f",
   "metadata": {
    "ExecuteTime": {
     "end_time": "2024-01-27T17:34:05.665306600Z",
     "start_time": "2024-01-27T17:34:04.813305700Z"
    }
   },
   "outputs": [],
   "source": [
    "char = len(tokenizer.char_to_num.get_vocabulary())\n",
    "model = models.build_model9v3(IMAGE_WIDTH, IMAGE_HEIGHT, char, LEARNING_RATE)\n",
    "model.summary()"
   ]
  },
  {
   "cell_type": "code",
   "execution_count": null,
   "id": "f529731561d67d12",
   "metadata": {
    "ExecuteTime": {
     "end_time": "2024-01-27T17:35:54.645940700Z",
     "start_time": "2024-01-27T17:34:05.643306900Z"
    }
   },
   "outputs": [],
   "source": [
    "start_time = time.time()\n",
    "\n",
    "prediction_model, history = train_model(model)\n",
    "\n",
    "total_duration = time.time() - start_time\n",
    "print(\"Gesamte Trainingsdauer: {time}s\".format(time=round(total_duration)))"
   ]
  },
  {
   "cell_type": "markdown",
   "id": "68d09077ade6432b",
   "metadata": {
    "collapsed": false
   },
   "source": [
    "# Plot helper functions\n"
   ]
  },
  {
   "cell_type": "code",
   "execution_count": null,
   "id": "f1c1cc631d9374f3",
   "metadata": {
    "ExecuteTime": {
     "end_time": "2024-01-27T17:35:54.660939Z",
     "start_time": "2024-01-27T17:35:54.648938800Z"
    }
   },
   "outputs": [],
   "source": [
    "def plot_history(history, name, dir_path, save_fig):\n",
    "    \"\"\"Plots the training history of a model.\n",
    "    \n",
    "    This function takes the training history of a model and plots the training and validation loss\n",
    "    across epochs. It also plots the learning rate on a secondary y-axis using a logarithmic scale.\n",
    "\n",
    "    Args:\n",
    "        history: The training history of the model.\n",
    "        name (str): The name of the model.\n",
    "        dir_path (str): The directory path to save the plot.\n",
    "        save_fig (bool): A flag indicating whether to save the plot as an image.\n",
    "\n",
    "    Returns:\n",
    "        None\n",
    "    \"\"\"\n",
    "    metrics = history.history\n",
    "    _, ax1 = plt.subplots()\n",
    "\n",
    "    # Plot für Trainings- und Validierungsverluste\n",
    "    ax1.plot(metrics['loss'], label='Training Loss', color='blue')\n",
    "    ax1.plot(metrics['val_loss'], label='Validation Loss', color='red')\n",
    "    ax1.set_xlabel('Epochs')\n",
    "    ax1.set_ylabel('Loss', color='black')\n",
    "    ax1.tick_params('y', colors='black')\n",
    "    ax1.legend(loc='upper left', bbox_to_anchor=(0.0, 0.95))  \n",
    "\n",
    "    # Zweite Y-Achse für die Lernrate\n",
    "    ax2 = ax1.twinx()\n",
    "    ax2.plot(metrics['lr'], label='Learning Rate', color='green')\n",
    "    ax2.set_ylabel('Learning Rate', color='black')\n",
    "    \n",
    "    ax2.set_yscale('log')  # Verwende logarithmische Skala für die Lernrate\n",
    "    \n",
    "    ax2.tick_params('y', colors='black')\n",
    "    ax2.yaxis.set_major_formatter(StrMethodFormatter('{x:1.0e}'))\n",
    "    ax2.legend(loc='upper right', bbox_to_anchor=(1.0, 0.95))  \n",
    "    \n",
    "    if save_fig:\n",
    "        plt.title('Name: '+name)\n",
    "        path = os.path.join(dir_path, name + '_history.png')\n",
    "        plt.savefig(path)\n",
    "        \n",
    "    plt.show()"
   ]
  },
  {
   "cell_type": "code",
   "execution_count": null,
   "id": "6b3e1ef7b215f5b3",
   "metadata": {
    "ExecuteTime": {
     "end_time": "2024-01-27T17:36:56.332285200Z",
     "start_time": "2024-01-27T17:36:56.299287800Z"
    }
   },
   "outputs": [],
   "source": [
    "# Creates a directory if it doesn't exist\n",
    "def create_dir(path_to_dir):\n",
    "    isExist = os.path.exists(path_to_dir)\n",
    "    if not isExist:\n",
    "        os.makedirs(path_to_dir)"
   ]
  },
  {
   "cell_type": "code",
   "execution_count": null,
   "id": "68b6ad48840858cc",
   "metadata": {
    "ExecuteTime": {
     "end_time": "2024-01-27T17:37:17.383542900Z",
     "start_time": "2024-01-27T17:37:17.344542600Z"
    },
    "collapsed": false
   },
   "outputs": [],
   "source": [
    "def decode_batch_predictions(pred):\n",
    "    input_len = np.ones(pred.shape[0]) * pred.shape[1]\n",
    "    # Use greedy search. For complex tasks, you can use beam search.\n",
    "    results = keras.backend.ctc_decode(pred, input_length=input_len, greedy=True)[0][0][:, :load_data.max_len]\n",
    "    # Iterate over the results and get back the text.\n",
    "    output_text = []\n",
    "    for res in results:\n",
    "        res = tf.gather(res, tf.where(tf.math.not_equal(res, -1)))\n",
    "        res = tf.strings.reduce_join(tokenizer.num_to_char(res)).numpy().decode(\"utf-8\")\n",
    "        output_text.append(res)\n",
    "    return output_text"
   ]
  },
  {
   "cell_type": "code",
   "execution_count": null,
   "id": "1140fda6640cf403",
   "metadata": {
    "ExecuteTime": {
     "end_time": "2024-01-27T17:37:17.709541500Z",
     "start_time": "2024-01-27T17:37:17.687544200Z"
    }
   },
   "outputs": [],
   "source": [
    "def plot_evaluation(name, dir_path, save_fig):\n",
    "    for batch in test_ds.take(1):\n",
    "        batch_images = batch[\"image\"]\n",
    "        _, ax = plt.subplots(4, 4, figsize=(32, 8))\n",
    "\n",
    "        preds = prediction_model.predict(batch_images)\n",
    "        pred_texts = decode_batch_predictions(preds)\n",
    "\n",
    "        for i in range(16):\n",
    "            img = batch_images[i]\n",
    "            img = tf.image.flip_left_right(img)\n",
    "            img = tf.transpose(img, perm=[1, 0, 2])\n",
    "            img = (img * 255.0).numpy().clip(0, 255).astype(np.uint8)\n",
    "            img = img[:, :, 0]\n",
    "\n",
    "            title = f\"Prediction: {pred_texts[i]}\"\n",
    "            ax[i // 4, i % 4].imshow(img, cmap=\"gray\")\n",
    "            ax[i // 4, i % 4].set_title(title)\n",
    "            ax[i // 4, i % 4].axis(\"off\")   \n",
    "    if save_fig:\n",
    "        path = os.path.join(dir_path, name + '_result.png')\n",
    "        plt.savefig(path)\n",
    "        \n",
    "    plt.show()"
   ]
  },
  {
   "cell_type": "code",
   "execution_count": null,
   "id": "d6e9bf3e",
   "metadata": {},
   "outputs": [],
   "source": [
    "def create_new_plot_name(model_name, names, format):\n",
    "    \n",
    "    pattern = r\"\\d+\"\n",
    "    max_number = 0\n",
    "    for name in names:\n",
    "        tmp_name = name.replace(model_name,\"\")\n",
    "        number = int(re.findall(pattern,tmp_name)[0])\n",
    "        if number > max_number:\n",
    "            max_number = number\n",
    "            \n",
    "    new_model_name = model_name + \"V_\" + str(max_number + 1)\n",
    "    \n",
    "    return format.replace(model_name,new_model_name)"
   ]
  },
  {
   "cell_type": "markdown",
   "id": "6c36c4de000ba89f",
   "metadata": {},
   "source": [
    "# Model Testing"
   ]
  },
  {
   "cell_type": "code",
   "execution_count": null,
   "id": "ace9bfc809bc8f94",
   "metadata": {
    "ExecuteTime": {
     "end_time": "2024-01-27T17:37:20.438584800Z",
     "start_time": "2024-01-27T17:37:18.377578300Z"
    }
   },
   "outputs": [],
   "source": [
    "\"\"\" Author: Alexej Kravtschenko (main) and Tim Harmling (wrote)\n",
    "    \n",
    "Creates a new plot name based on existing names.\n",
    "This function generates a new plot name by appending a version number to the given model name.\n",
    "The version number is determined based on existing plot names in the directory.\n",
    "\n",
    "Args:\n",
    "    model_name (str): The base model name.\n",
    "    names (list): A list of existing plot names.\n",
    "    format (str): The format string for the plot name.\n",
    "\n",
    "Returns:\n",
    "    str: The new plot name.\n",
    "\"\"\"\n",
    "     \n",
    "if not os.path.exists(TEST_RESULT_DIR_NAME):\n",
    "            create_dir(TEST_RESULT_DIR_NAME)\n",
    "files_with_model_name = [file for file in os.listdir(TEST_RESULT_DIR_NAME) if MODEL_NAME in file]\n",
    "metrics = history.history\n",
    "\n",
    "NAME = \"{name}_{epoch}E_{height}H_{width}W_{loss}L_{val_loss}VL_{time}s\".format(\n",
    "    name=MODEL_NAME, epoch=history.epoch[-1], height=IMAGE_HEIGHT, width=IMAGE_WIDTH,\n",
    "    loss=round(metrics['loss'][-1],2), val_loss=round(metrics['val_loss'][-1], 2), time=round(total_duration))\n",
    "\n",
    "if not files_with_model_name:\n",
    "    if SAVE_HISTORY:\n",
    "        plot_history(history, NAME, TEST_RESULT_DIR_NAME, True)\n",
    "        plot_evaluation(NAME, TEST_RESULT_DIR_NAME, True)\n",
    "else:\n",
    "    new_name = create_new_plot_name(MODEL_NAME,files_with_model_name, NAME)\n",
    "    plot_history(history, new_name, TEST_RESULT_DIR_NAME, True)\n",
    "    plot_evaluation(new_name, TEST_RESULT_DIR_NAME, True)"
   ]
  },
  {
   "cell_type": "markdown",
   "id": "5f26ab3b04550af2",
   "metadata": {
    "collapsed": false
   },
   "source": [
    "# Save the Model"
   ]
  },
  {
   "cell_type": "code",
   "execution_count": null,
   "id": "f9f3721ecbe52011",
   "metadata": {
    "ExecuteTime": {
     "end_time": "2024-01-27T17:38:43.909865800Z",
     "start_time": "2024-01-27T17:38:31.600868100Z"
    },
    "collapsed": false
   },
   "outputs": [],
   "source": [
    "# Saves the model after training if MODEL_SAVE = True\n",
    "if MODEL_SAVE:\n",
    "    if not os.path.exists(MODEL_DIR_NAME):\n",
    "        create_dir(MODEL_DIR_NAME)\n",
    "    model_path = os.path.join(MODEL_DIR_NAME, \"{model_name}\".format(model_name=MODEL_NAME))\n",
    "    model.save(model_path)\n",
    "    model.save_weights(os.path.join(model_path, f\"{MODEL_NAME}{weights_keras_string}\"), overwrite=True, save_format=None, options=None)\n",
    "    json_string = model.to_json()\n",
    "\n",
    "    with open(os.path.join(model_path, f\"{MODEL_NAME}.json\"),'w') as f:\n",
    "        f.write(json_string)"
   ]
  }
 ],
 "metadata": {
  "kernelspec": {
   "display_name": "Python 3",
   "language": "python",
   "name": "python3"
  },
  "language_info": {
   "codemirror_mode": {
    "name": "ipython",
    "version": 3
   },
   "file_extension": ".py",
   "mimetype": "text/x-python",
   "name": "python",
   "nbconvert_exporter": "python",
   "pygments_lexer": "ipython3",
   "version": "3.9.18"
  }
 },
 "nbformat": 4,
 "nbformat_minor": 5
}
