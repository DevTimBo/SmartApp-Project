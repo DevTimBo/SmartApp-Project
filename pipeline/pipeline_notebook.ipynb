{
 "cells": [
  {
   "cell_type": "markdown",
   "source": [
    "# Pipeline Notebook \n",
    "Keep it simple please don't just change things here rather do:\n",
    "\n",
    "push ur own functions into .py files in the pipeline folder\n",
    "if you don't understand look example.py"
   ],
   "metadata": {
    "collapsed": false
   },
   "id": "e7d3ceb07fcdfc44"
  },
  {
   "cell_type": "code",
   "execution_count": 1,
   "outputs": [
    {
     "name": "stdout",
     "output_type": "stream",
     "text": [
      "WARNING:tensorflow:From C:\\Users\\timBo\\miniconda3\\envs\\Pipeline-Smartapp\\Lib\\site-packages\\keras\\src\\losses.py:2976: The name tf.losses.sparse_softmax_cross_entropy is deprecated. Please use tf.compat.v1.losses.sparse_softmax_cross_entropy instead.\n",
      "WARNING:tensorflow:From C:\\Users\\timBo\\miniconda3\\envs\\Pipeline-Smartapp\\Lib\\site-packages\\keras\\src\\backend.py:873: The name tf.get_default_graph is deprecated. Please use tf.compat.v1.get_default_graph instead.\n"
     ]
    }
   ],
   "source": [
    "import handwriting\n",
    "import keras\n",
    "import tensorflow as tf\n",
    "import preprocess"
   ],
   "metadata": {
    "collapsed": false,
    "ExecuteTime": {
     "end_time": "2023-12-16T11:17:47.082995100Z",
     "start_time": "2023-12-16T11:17:41.326714900Z"
    }
   },
   "id": "130fe1a34bbf0c03"
  },
  {
   "cell_type": "markdown",
   "source": [
    "## Bounding Box"
   ],
   "metadata": {
    "collapsed": false
   },
   "id": "97f29d7aacc4aa39"
  },
  {
   "cell_type": "markdown",
   "source": [
    "### Bounding Box Config"
   ],
   "metadata": {
    "collapsed": false
   },
   "id": "fbc611d575994aa8"
  },
  {
   "cell_type": "code",
   "execution_count": 7,
   "outputs": [
    {
     "ename": "ValueError",
     "evalue": "Cannot assign value to variable ' yolo_v8_head_1_class_3_conv/kernel:0': Shape mismatch.The variable shape (1, 1, 64, 43), and the assigned value shape (38, 64, 1, 1) are incompatible.",
     "output_type": "error",
     "traceback": [
      "\u001B[1;31m---------------------------------------------------------------------------\u001B[0m",
      "\u001B[1;31mValueError\u001B[0m                                Traceback (most recent call last)",
      "Cell \u001B[1;32mIn[7], line 3\u001B[0m\n\u001B[0;32m      1\u001B[0m \u001B[38;5;28;01mfrom\u001B[39;00m \u001B[38;5;21;01mbounding_box\u001B[39;00m\u001B[38;5;21;01m.\u001B[39;00m\u001B[38;5;21;01mmodel\u001B[39;00m \u001B[38;5;28;01mimport\u001B[39;00m load_weight_model,predict_image,get_image_as_array, show_image \n\u001B[0;32m      2\u001B[0m \u001B[38;5;28;01mfrom\u001B[39;00m \u001B[38;5;21;01mbounding_box\u001B[39;00m\u001B[38;5;21;01m.\u001B[39;00m\u001B[38;5;21;01mconfig\u001B[39;00m \u001B[38;5;28;01mimport\u001B[39;00m NUM_CLASSES_ALL,BBOX_PATH,MAIN_BBOX_DETECTOR_MODEL,SUB_BBOX_DETECTOR_MODEL  \n\u001B[1;32m----> 3\u001B[0m bbox_model \u001B[38;5;241m=\u001B[39m \u001B[43mload_weight_model\u001B[49m\u001B[43m(\u001B[49m\u001B[43mSUB_BBOX_DETECTOR_MODEL\u001B[49m\u001B[43m)\u001B[49m \n\u001B[0;32m      4\u001B[0m boxes,confidence,classes  \u001B[38;5;241m=\u001B[39m predict_image(\u001B[38;5;124m\"\u001B[39m\u001B[38;5;124mbounding_box/workspace/images/image_0001.jpg\u001B[39m\u001B[38;5;124m\"\u001B[39m,bbox_model) \n\u001B[0;32m      5\u001B[0m show_image((\u001B[38;5;124m\"\u001B[39m\u001B[38;5;124mbounding_box/workspace/images/image_0001.jpg\u001B[39m\u001B[38;5;124m\"\u001B[39m), boxes,confidence,classes )   \n",
      "File \u001B[1;32m~\\Desktop\\Python\\SmartApp-Project\\pipeline\\bounding_box\\model.py:46\u001B[0m, in \u001B[0;36mload_weight_model\u001B[1;34m(model_path)\u001B[0m\n\u001B[0;32m     44\u001B[0m base_model \u001B[38;5;241m=\u001B[39m define_model(\u001B[38;5;241m43\u001B[39m)\u001B[38;5;66;03m#(len(get_class_mapping(model_path)[0]))\u001B[39;00m\n\u001B[0;32m     45\u001B[0m compile_model(base_model)\n\u001B[1;32m---> 46\u001B[0m \u001B[43mbase_model\u001B[49m\u001B[38;5;241;43m.\u001B[39;49m\u001B[43mload_weights\u001B[49m\u001B[43m(\u001B[49m\u001B[43mmodel_path\u001B[49m\u001B[43m)\u001B[49m\n\u001B[0;32m     47\u001B[0m \u001B[38;5;28;01mreturn\u001B[39;00m  base_model\n",
      "File \u001B[1;32m~\\miniconda3\\envs\\Pipeline-Smartapp\\Lib\\site-packages\\keras\\src\\utils\\traceback_utils.py:70\u001B[0m, in \u001B[0;36mfilter_traceback.<locals>.error_handler\u001B[1;34m(*args, **kwargs)\u001B[0m\n\u001B[0;32m     67\u001B[0m     filtered_tb \u001B[38;5;241m=\u001B[39m _process_traceback_frames(e\u001B[38;5;241m.\u001B[39m__traceback__)\n\u001B[0;32m     68\u001B[0m     \u001B[38;5;66;03m# To get the full stack trace, call:\u001B[39;00m\n\u001B[0;32m     69\u001B[0m     \u001B[38;5;66;03m# `tf.debugging.disable_traceback_filtering()`\u001B[39;00m\n\u001B[1;32m---> 70\u001B[0m     \u001B[38;5;28;01mraise\u001B[39;00m e\u001B[38;5;241m.\u001B[39mwith_traceback(filtered_tb) \u001B[38;5;28;01mfrom\u001B[39;00m \u001B[38;5;28;01mNone\u001B[39;00m\n\u001B[0;32m     71\u001B[0m \u001B[38;5;28;01mfinally\u001B[39;00m:\n\u001B[0;32m     72\u001B[0m     \u001B[38;5;28;01mdel\u001B[39;00m filtered_tb\n",
      "File \u001B[1;32m~\\miniconda3\\envs\\Pipeline-Smartapp\\Lib\\site-packages\\keras\\src\\backend.py:4359\u001B[0m, in \u001B[0;36m_assign_value_to_variable\u001B[1;34m(variable, value)\u001B[0m\n\u001B[0;32m   4356\u001B[0m     variable\u001B[38;5;241m.\u001B[39massign(d_value)\n\u001B[0;32m   4357\u001B[0m \u001B[38;5;28;01melse\u001B[39;00m:\n\u001B[0;32m   4358\u001B[0m     \u001B[38;5;66;03m# For the normal tf.Variable assign\u001B[39;00m\n\u001B[1;32m-> 4359\u001B[0m     \u001B[43mvariable\u001B[49m\u001B[38;5;241;43m.\u001B[39;49m\u001B[43massign\u001B[49m\u001B[43m(\u001B[49m\u001B[43mvalue\u001B[49m\u001B[43m)\u001B[49m\n",
      "\u001B[1;31mValueError\u001B[0m: Cannot assign value to variable ' yolo_v8_head_1_class_3_conv/kernel:0': Shape mismatch.The variable shape (1, 1, 64, 43), and the assigned value shape (38, 64, 1, 1) are incompatible."
     ]
    }
   ],
   "source": [
    "from bounding_box.model import load_weight_model,predict_image,get_image_as_array, show_image \n",
    "from bounding_box.config import NUM_CLASSES_ALL,BBOX_PATH,MAIN_BBOX_DETECTOR_MODEL,SUB_BBOX_DETECTOR_MODEL  \n",
    "bbox_model = load_weight_model(SUB_BBOX_DETECTOR_MODEL) \n",
    "boxes,confidence,classes  = predict_image(\"bounding_box/workspace/images/image_0001.jpg\",bbox_model) \n",
    "show_image((\"bounding_box/workspace/images/image_0001.jpg\"), boxes,confidence,classes )   \n",
    "#boxes,confidence,classes = predict_image('workspace/images/640x640/000000000003.jpeg',bbox_model) \n",
    "#show_image(('workspace/images/640x640/000000000003.jpeg'), boxes,confidence,classes)"
   ],
   "metadata": {
    "collapsed": false,
    "ExecuteTime": {
     "end_time": "2023-12-16T11:31:18.282788700Z",
     "start_time": "2023-12-16T11:31:16.488166600Z"
    }
   },
   "id": "5e3b74effcc816bf"
  },
  {
   "cell_type": "markdown",
   "source": [
    "### Load Image"
   ],
   "metadata": {
    "collapsed": false
   },
   "id": "1375d80d5a0381a6"
  },
  {
   "cell_type": "code",
   "execution_count": null,
   "outputs": [],
   "source": [
    "# Loading Picture\n",
    " "
   ],
   "metadata": {
    "collapsed": false
   },
   "id": "a142e6a2a8a5f1e1"
  },
  {
   "cell_type": "markdown",
   "source": [
    "### Preprocess Image"
   ],
   "metadata": {
    "collapsed": false
   },
   "id": "f85ca61d6edfccef"
  },
  {
   "cell_type": "code",
   "execution_count": null,
   "outputs": [],
   "source": [
    "# Preprocessing Image "
   ],
   "metadata": {
    "collapsed": false
   },
   "id": "4aacdde6f3b2e805"
  },
  {
   "cell_type": "markdown",
   "source": [
    "### Bounding Box Detection Neural Network"
   ],
   "metadata": {
    "collapsed": false
   },
   "id": "ea00e0c467915a13"
  },
  {
   "cell_type": "code",
   "execution_count": null,
   "outputs": [],
   "source": [
    "# Neural Network Bounding Box maybe more than 1"
   ],
   "metadata": {
    "collapsed": false
   },
   "id": "3745c6fe6139193c"
  },
  {
   "cell_type": "markdown",
   "source": [
    "### ROI Crop"
   ],
   "metadata": {
    "collapsed": false
   },
   "id": "7580ef38cc7c8ffc"
  },
  {
   "cell_type": "code",
   "execution_count": null,
   "outputs": [],
   "source": [
    "# Crop ROI\n",
    "\n",
    "# added this cause Bounding Box is not finished nor is ROI finished\n",
    "image_paths = \"data/hallo.jpg\",\"data/hallo.jpg\"\n",
    "img_size=(preprocess.handwriting_img_w, preprocess.handwriting_img_h)\n",
    "images = []\n",
    "for image_path in image_paths:\n",
    "    image = tf.io.read_file(image_path)\n",
    "    image = tf.image.decode_png(image, 1)\n",
    "    image = preprocess.distortion_free_resize(image, img_size)\n",
    "    image = tf.cast(image, tf.float32) / 255.0\n",
    "    images.append(image)"
   ],
   "metadata": {
    "collapsed": false
   },
   "id": "9bcfb0dfd70010cb"
  },
  {
   "cell_type": "markdown",
   "source": [
    "### Plot ROI"
   ],
   "metadata": {
    "collapsed": false
   },
   "id": "4e833bedf786ed4d"
  },
  {
   "cell_type": "code",
   "execution_count": null,
   "outputs": [],
   "source": [],
   "metadata": {
    "collapsed": false
   },
   "id": "39f13e9bdf94fa05"
  },
  {
   "cell_type": "markdown",
   "source": [
    "## Handwriting Recognition"
   ],
   "metadata": {
    "collapsed": false
   },
   "id": "5a2274dd56bfb7ed"
  },
  {
   "cell_type": "markdown",
   "source": [
    "### Preprocess Image"
   ],
   "metadata": {
    "collapsed": false
   },
   "id": "1de32d50dd270d79"
  },
  {
   "cell_type": "code",
   "execution_count": null,
   "outputs": [],
   "source": [
    "# Preprocess Image\n"
   ],
   "metadata": {
    "collapsed": false
   },
   "id": "cfbcac4daa071012"
  },
  {
   "cell_type": "markdown",
   "source": [
    "### Handwriting Recognition Neural Network"
   ],
   "metadata": {
    "collapsed": false
   },
   "id": "5098d538d74bffb4"
  },
  {
   "cell_type": "code",
   "execution_count": null,
   "outputs": [],
   "source": [
    "# Neural Network Handwriting\n",
    "rnn = handwriting.handwriting_model()\n",
    "rnn.load_weights(\"handwriting_weights_alexej.keras\")\n",
    "prediction_model = keras.models.Model(rnn.get_layer(name=\"image\").input, rnn.get_layer(name=\"dense2\").output)\n",
    "predicted_texts = []\n",
    "# Prediction\n",
    "for image in images:\n",
    "    preds = prediction_model.predict(tf.expand_dims(image, axis=0))\n",
    "    pred_texts = handwriting.decode_batch_predictions(preds)\n",
    "    selected_pred_text = pred_texts[0]\n",
    "    selected_pred_text = selected_pred_text.replace(\"|\",\" \")\n",
    "    predicted_texts.append(selected_pred_text)"
   ],
   "metadata": {
    "collapsed": false
   },
   "id": "fd0422d0138b0426"
  },
  {
   "cell_type": "code",
   "execution_count": null,
   "outputs": [],
   "source": [
    "print(predicted_texts)\n",
    "predicted_texts.append(\"Hello wus\")"
   ],
   "metadata": {
    "collapsed": false
   },
   "id": "d16b2fe48bfeea2a"
  },
  {
   "cell_type": "markdown",
   "source": [
    "### Spell Checker"
   ],
   "metadata": {
    "collapsed": false
   },
   "id": "ae1d51aed43ff80a"
  },
  {
   "cell_type": "code",
   "execution_count": null,
   "outputs": [],
   "source": [
    "from spellchecker import SpellChecker\n",
    "\n",
    "# spell = SpellChecker()\n",
    "\n",
    "# Initialisierung des Spellcheckers für Deutsch\n",
    "spell = SpellChecker(language='de')\n",
    "\n",
    "# Hinzufügen von benutzerdefinierten Wörtern\n",
    "# custom_words = ['Colin', 'asddf']\n",
    "# spell.word_frequency.load_words(custom_words)\n",
    "\n",
    "# Verwendung einer Datei von häufigen Wörtern oder Fachbegriffen\n",
    "# with open('/data/custom_dictionary.txt') as f:\n",
    "#     custom_words = f.read().splitlines()\n",
    "# spell.word_frequency.load_words(custom_words)\n",
    "\n",
    "output_text = []\n",
    "for text in predicted_texts:\n",
    "     # Spellchecker\n",
    "    corrected_text = ' '.join([spell.correction(word) for word in text.split()])\n",
    "    output_text.append(corrected_text)\n",
    "     \n",
    "print(output_text)"
   ],
   "metadata": {
    "collapsed": false
   },
   "id": "f65f262700e8eca4"
  },
  {
   "cell_type": "markdown",
   "source": [],
   "metadata": {
    "collapsed": false
   },
   "id": "a1a4c0a65c89f07f"
  }
 ],
 "metadata": {
  "kernelspec": {
   "display_name": "Python 3",
   "language": "python",
   "name": "python3"
  },
  "language_info": {
   "codemirror_mode": {
    "name": "ipython",
    "version": 2
   },
   "file_extension": ".py",
   "mimetype": "text/x-python",
   "name": "python",
   "nbconvert_exporter": "python",
   "pygments_lexer": "ipython2",
   "version": "2.7.6"
  }
 },
 "nbformat": 4,
 "nbformat_minor": 5
}
