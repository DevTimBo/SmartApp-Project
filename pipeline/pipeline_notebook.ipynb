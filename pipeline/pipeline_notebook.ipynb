{
 "cells": [
  {
   "cell_type": "markdown",
   "source": [
    "# Pipeline Notebook \n",
    "this is Tims property do not touch\n",
    "push ur own functions into .py files in the pipeline folder\n",
    "if you don\"t understand look example.py"
   ],
   "metadata": {
    "collapsed": false
   },
   "id": "e7d3ceb07fcdfc44"
  },
  {
   "cell_type": "markdown",
   "source": [
    "## Bounding Box"
   ],
   "metadata": {
    "collapsed": false
   },
   "id": "97f29d7aacc4aa39"
  },
  {
   "cell_type": "markdown",
   "source": [
    "### Load Image"
   ],
   "metadata": {
    "collapsed": false
   },
   "id": "1375d80d5a0381a6"
  },
  {
   "cell_type": "code",
   "execution_count": 2,
   "outputs": [],
   "source": [
    "# Loading Picture"
   ],
   "metadata": {
    "collapsed": false,
    "ExecuteTime": {
     "end_time": "2023-12-11T13:02:46.849425600Z",
     "start_time": "2023-12-11T13:02:46.806231500Z"
    }
   },
   "id": "a142e6a2a8a5f1e1"
  },
  {
   "cell_type": "markdown",
   "source": [
    "### Preprocess Image"
   ],
   "metadata": {
    "collapsed": false
   },
   "id": "f85ca61d6edfccef"
  },
  {
   "cell_type": "code",
   "execution_count": 3,
   "outputs": [],
   "source": [
    "# Preprocessing Image "
   ],
   "metadata": {
    "collapsed": false,
    "ExecuteTime": {
     "end_time": "2023-12-11T13:02:46.867425500Z",
     "start_time": "2023-12-11T13:02:46.822424600Z"
    }
   },
   "id": "4aacdde6f3b2e805"
  },
  {
   "cell_type": "markdown",
   "source": [
    "### Bounding Box Detection Neural Network"
   ],
   "metadata": {
    "collapsed": false
   },
   "id": "ea00e0c467915a13"
  },
  {
   "cell_type": "code",
   "execution_count": 4,
   "outputs": [],
   "source": [
    "# Neural Network Bounding Box maybe more than 1"
   ],
   "metadata": {
    "collapsed": false,
    "ExecuteTime": {
     "end_time": "2023-12-11T13:02:46.892424800Z",
     "start_time": "2023-12-11T13:02:46.837427700Z"
    }
   },
   "id": "3745c6fe6139193c"
  },
  {
   "cell_type": "markdown",
   "source": [
    "### ROI Crop"
   ],
   "metadata": {
    "collapsed": false
   },
   "id": "7580ef38cc7c8ffc"
  },
  {
   "cell_type": "code",
   "execution_count": 5,
   "outputs": [],
   "source": [
    "# Crop ROI"
   ],
   "metadata": {
    "collapsed": false,
    "ExecuteTime": {
     "end_time": "2023-12-11T13:02:46.893426100Z",
     "start_time": "2023-12-11T13:02:46.854426100Z"
    }
   },
   "id": "9bcfb0dfd70010cb"
  },
  {
   "cell_type": "markdown",
   "source": [
    "## Handwriting Recognition"
   ],
   "metadata": {
    "collapsed": false
   },
   "id": "5a2274dd56bfb7ed"
  },
  {
   "cell_type": "markdown",
   "source": [
    "### Preprocess Image"
   ],
   "metadata": {
    "collapsed": false
   },
   "id": "1de32d50dd270d79"
  },
  {
   "cell_type": "code",
   "execution_count": 6,
   "outputs": [],
   "source": [
    "# Preprocess Image"
   ],
   "metadata": {
    "collapsed": false,
    "ExecuteTime": {
     "end_time": "2023-12-11T13:02:46.894425600Z",
     "start_time": "2023-12-11T13:02:46.869424900Z"
    }
   },
   "id": "cfbcac4daa071012"
  },
  {
   "cell_type": "markdown",
   "source": [
    "### Handwriting Recognition Neural Network"
   ],
   "metadata": {
    "collapsed": false
   },
   "id": "5098d538d74bffb4"
  },
  {
   "cell_type": "code",
   "execution_count": 7,
   "outputs": [],
   "source": [
    "# Neural Network Handwriting"
   ],
   "metadata": {
    "collapsed": false,
    "ExecuteTime": {
     "end_time": "2023-12-11T13:02:46.913425600Z",
     "start_time": "2023-12-11T13:02:46.884426Z"
    }
   },
   "id": "fd0422d0138b0426"
  },
  {
   "cell_type": "markdown",
   "source": [
    "### Spell Checker"
   ],
   "metadata": {
    "collapsed": false
   },
   "id": "ae1d51aed43ff80a"
  },
  {
   "cell_type": "code",
   "execution_count": 8,
   "outputs": [],
   "source": [
    "# Spell Checker"
   ],
   "metadata": {
    "collapsed": false,
    "ExecuteTime": {
     "end_time": "2023-12-11T13:02:46.919424800Z",
     "start_time": "2023-12-11T13:02:46.900427800Z"
    }
   },
   "id": "f65f262700e8eca4"
  },
  {
   "cell_type": "markdown",
   "source": [],
   "metadata": {
    "collapsed": false
   },
   "id": "a1a4c0a65c89f07f"
  }
 ],
 "metadata": {
  "kernelspec": {
   "display_name": "Python 3",
   "language": "python",
   "name": "python3"
  },
  "language_info": {
   "codemirror_mode": {
    "name": "ipython",
    "version": 2
   },
   "file_extension": ".py",
   "mimetype": "text/x-python",
   "name": "python",
   "nbconvert_exporter": "python",
   "pygments_lexer": "ipython2",
   "version": "2.7.6"
  }
 },
 "nbformat": 4,
 "nbformat_minor": 5
}
