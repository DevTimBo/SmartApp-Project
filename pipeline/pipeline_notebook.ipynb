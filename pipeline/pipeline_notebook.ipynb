{
 "cells": [
  {
   "cell_type": "markdown",
   "source": [
    "# Pipeline Notebook \n",
    "this is Tims property do not touch\n",
    "push ur own functions into .py files in the pipeline folder\n",
    "if you don't understand look example.py"
   ],
   "metadata": {
    "collapsed": false
   },
   "id": "e7d3ceb07fcdfc44"
  },
  {
   "cell_type": "code",
   "execution_count": 2,
   "outputs": [],
   "source": [
    "import handwriting\n",
    "import keras\n",
    "import tensorflow as tf\n",
    "import preprocess"
   ],
   "metadata": {
    "collapsed": false,
    "ExecuteTime": {
     "end_time": "2023-12-11T13:56:10.677341100Z",
     "start_time": "2023-12-11T13:56:10.026983100Z"
    }
   },
   "id": "130fe1a34bbf0c03"
  },
  {
   "cell_type": "markdown",
   "source": [
    "## Bounding Box"
   ],
   "metadata": {
    "collapsed": false
   },
   "id": "97f29d7aacc4aa39"
  },
  {
   "cell_type": "markdown",
   "source": [
    "### Bounding Box Config"
   ],
   "metadata": {
    "collapsed": false
   },
   "id": "fbc611d575994aa8"
  },
  {
   "cell_type": "code",
   "execution_count": 2,
   "outputs": [],
   "source": [],
   "metadata": {
    "collapsed": false,
    "ExecuteTime": {
     "end_time": "2023-12-11T13:56:10.693342Z",
     "start_time": "2023-12-11T13:56:10.678343800Z"
    }
   },
   "id": "27ff31b5effd8571"
  },
  {
   "cell_type": "markdown",
   "source": [
    "### Load Image"
   ],
   "metadata": {
    "collapsed": false
   },
   "id": "1375d80d5a0381a6"
  },
  {
   "cell_type": "code",
   "execution_count": 3,
   "outputs": [],
   "source": [
    "# Loading Picture"
   ],
   "metadata": {
    "collapsed": false,
    "ExecuteTime": {
     "end_time": "2023-12-11T13:56:10.710053100Z",
     "start_time": "2023-12-11T13:56:10.694342500Z"
    }
   },
   "id": "a142e6a2a8a5f1e1"
  },
  {
   "cell_type": "markdown",
   "source": [
    "### Preprocess Image"
   ],
   "metadata": {
    "collapsed": false
   },
   "id": "f85ca61d6edfccef"
  },
  {
   "cell_type": "code",
   "execution_count": 4,
   "outputs": [],
   "source": [
    "# Preprocessing Image "
   ],
   "metadata": {
    "collapsed": false,
    "ExecuteTime": {
     "end_time": "2023-12-11T13:56:10.723115900Z",
     "start_time": "2023-12-11T13:56:10.709052800Z"
    }
   },
   "id": "4aacdde6f3b2e805"
  },
  {
   "cell_type": "markdown",
   "source": [
    "### Bounding Box Detection Neural Network"
   ],
   "metadata": {
    "collapsed": false
   },
   "id": "ea00e0c467915a13"
  },
  {
   "cell_type": "code",
   "execution_count": 5,
   "outputs": [],
   "source": [
    "# Neural Network Bounding Box maybe more than 1"
   ],
   "metadata": {
    "collapsed": false,
    "ExecuteTime": {
     "end_time": "2023-12-11T13:56:10.741025100Z",
     "start_time": "2023-12-11T13:56:10.723115900Z"
    }
   },
   "id": "3745c6fe6139193c"
  },
  {
   "cell_type": "markdown",
   "source": [
    "### ROI Crop"
   ],
   "metadata": {
    "collapsed": false
   },
   "id": "7580ef38cc7c8ffc"
  },
  {
   "cell_type": "code",
   "execution_count": 6,
   "outputs": [],
   "source": [
    "# Crop ROI\n",
    "\n",
    "# added this cause Bounding Box is not finished nor is ROI finished\n",
    "image_path = \"data/hallo.jpg\" \n",
    "img_size=(preprocess.handwriting_img_w, preprocess.handwriting_img_h)\n",
    "image = tf.io.read_file(image_path)"
   ],
   "metadata": {
    "collapsed": false,
    "ExecuteTime": {
     "end_time": "2023-12-11T13:56:10.755053400Z",
     "start_time": "2023-12-11T13:56:10.740023800Z"
    }
   },
   "id": "9bcfb0dfd70010cb"
  },
  {
   "cell_type": "markdown",
   "source": [
    "### Plot ROI"
   ],
   "metadata": {
    "collapsed": false
   },
   "id": "4e833bedf786ed4d"
  },
  {
   "cell_type": "code",
   "execution_count": 6,
   "outputs": [],
   "source": [],
   "metadata": {
    "collapsed": false,
    "ExecuteTime": {
     "end_time": "2023-12-11T13:56:10.773054400Z",
     "start_time": "2023-12-11T13:56:10.756053300Z"
    }
   },
   "id": "39f13e9bdf94fa05"
  },
  {
   "cell_type": "markdown",
   "source": [
    "## Handwriting Recognition"
   ],
   "metadata": {
    "collapsed": false
   },
   "id": "5a2274dd56bfb7ed"
  },
  {
   "cell_type": "markdown",
   "source": [
    "### Preprocess Image"
   ],
   "metadata": {
    "collapsed": false
   },
   "id": "1de32d50dd270d79"
  },
  {
   "cell_type": "code",
   "execution_count": 7,
   "outputs": [],
   "source": [
    "# Preprocess Image\n",
    "image = tf.image.decode_png(image, 1)\n",
    "image = preprocess.distortion_free_resize(image, img_size)\n",
    "image = tf.cast(image, tf.float32) / 255.0"
   ],
   "metadata": {
    "collapsed": false,
    "ExecuteTime": {
     "end_time": "2023-12-11T13:56:10.804054100Z",
     "start_time": "2023-12-11T13:56:10.772055600Z"
    }
   },
   "id": "cfbcac4daa071012"
  },
  {
   "cell_type": "markdown",
   "source": [
    "### Handwriting Recognition Neural Network"
   ],
   "metadata": {
    "collapsed": false
   },
   "id": "5098d538d74bffb4"
  },
  {
   "cell_type": "code",
   "execution_count": 8,
   "outputs": [
    {
     "name": "stdout",
     "output_type": "stream",
     "text": [
      "WARNING:tensorflow:Using a while_loop for converting RngReadAndSkip cause there is no registered converter for this op.\n",
      "WARNING:tensorflow:Using a while_loop for converting Bitcast cause there is no registered converter for this op.\n",
      "WARNING:tensorflow:Using a while_loop for converting Bitcast cause there is no registered converter for this op.\n",
      "WARNING:tensorflow:Using a while_loop for converting StatelessRandomUniformV2 cause there is no registered converter for this op.\n",
      "WARNING:tensorflow:Using a while_loop for converting RngReadAndSkip cause there is no registered converter for this op.\n",
      "WARNING:tensorflow:Using a while_loop for converting Bitcast cause there is no registered converter for this op.\n",
      "WARNING:tensorflow:Using a while_loop for converting Bitcast cause there is no registered converter for this op.\n",
      "WARNING:tensorflow:Using a while_loop for converting StatelessRandomUniformFullIntV2 cause there is no registered converter for this op.\n",
      "WARNING:tensorflow:Using a while_loop for converting StatelessRandomGetKeyCounter cause there is no registered converter for this op.\n",
      "WARNING:tensorflow:Using a while_loop for converting StatelessRandomUniformV2 cause there is no registered converter for this op.\n",
      "WARNING:tensorflow:Using a while_loop for converting AdjustContrastv2 cause Input \"contrast_factor\" of op 'AdjustContrastv2' expected to be loop invariant.\n",
      "WARNING:tensorflow:Using a while_loop for converting RngReadAndSkip cause there is no registered converter for this op.\n",
      "WARNING:tensorflow:Using a while_loop for converting Bitcast cause there is no registered converter for this op.\n",
      "WARNING:tensorflow:Using a while_loop for converting Bitcast cause there is no registered converter for this op.\n",
      "WARNING:tensorflow:Using a while_loop for converting StatelessRandomUniformV2 cause there is no registered converter for this op.\n",
      "WARNING:tensorflow:Using a while_loop for converting RngReadAndSkip cause there is no registered converter for this op.\n",
      "WARNING:tensorflow:Using a while_loop for converting Bitcast cause there is no registered converter for this op.\n",
      "WARNING:tensorflow:Using a while_loop for converting Bitcast cause there is no registered converter for this op.\n",
      "WARNING:tensorflow:Using a while_loop for converting StatelessRandomUniformFullIntV2 cause there is no registered converter for this op.\n",
      "WARNING:tensorflow:Using a while_loop for converting StatelessRandomGetKeyCounter cause there is no registered converter for this op.\n",
      "WARNING:tensorflow:Using a while_loop for converting StatelessRandomUniformV2 cause there is no registered converter for this op.\n",
      "WARNING:tensorflow:Using a while_loop for converting AdjustContrastv2 cause Input \"contrast_factor\" of op 'AdjustContrastv2' expected to be loop invariant.\n",
      "1/1 [==============================] - 2s 2s/step\n"
     ]
    }
   ],
   "source": [
    "# Neural Network Handwriting\n",
    "rnn = handwriting.handwriting_model()\n",
    "rnn.load_weights(\"handwriting_weights_alexej.keras\")\n",
    "prediction_model = keras.models.Model(rnn.get_layer(name=\"image\").input, rnn.get_layer(name=\"dense2\").output)\n",
    "\n",
    "# Predicition\n",
    "preds = prediction_model.predict(tf.expand_dims(image, axis=0))\n",
    "pred_texts = handwriting.decode_batch_predictions(preds)\n",
    "selected_pred_text = pred_texts[0]\n",
    "selected_pred_text = selected_pred_text.replace(\"|\",\" \")"
   ],
   "metadata": {
    "collapsed": false,
    "ExecuteTime": {
     "end_time": "2023-12-11T13:56:14.587042200Z",
     "start_time": "2023-12-11T13:56:10.806053800Z"
    }
   },
   "id": "fd0422d0138b0426"
  },
  {
   "cell_type": "code",
   "execution_count": 9,
   "outputs": [
    {
     "name": "stdout",
     "output_type": "stream",
     "text": [
      "Hallo was geht ! .\n"
     ]
    }
   ],
   "source": [
    "print(selected_pred_text)"
   ],
   "metadata": {
    "collapsed": false,
    "ExecuteTime": {
     "end_time": "2023-12-11T13:56:14.602041600Z",
     "start_time": "2023-12-11T13:56:14.588040600Z"
    }
   },
   "id": "d16b2fe48bfeea2a"
  },
  {
   "cell_type": "markdown",
   "source": [
    "### Spell Checker"
   ],
   "metadata": {
    "collapsed": false
   },
   "id": "ae1d51aed43ff80a"
  },
  {
   "cell_type": "code",
   "execution_count": 10,
   "outputs": [],
   "source": [
    "# Spell Checker"
   ],
   "metadata": {
    "collapsed": false,
    "ExecuteTime": {
     "end_time": "2023-12-11T13:56:14.649157Z",
     "start_time": "2023-12-11T13:56:14.603042200Z"
    }
   },
   "id": "f65f262700e8eca4"
  },
  {
   "cell_type": "markdown",
   "source": [],
   "metadata": {
    "collapsed": false
   },
   "id": "a1a4c0a65c89f07f"
  }
 ],
 "metadata": {
  "kernelspec": {
   "display_name": "Python 3",
   "language": "python",
   "name": "python3"
  },
  "language_info": {
   "codemirror_mode": {
    "name": "ipython",
    "version": 2
   },
   "file_extension": ".py",
   "mimetype": "text/x-python",
   "name": "python",
   "nbconvert_exporter": "python",
   "pygments_lexer": "ipython2",
   "version": "2.7.6"
  }
 },
 "nbformat": 4,
 "nbformat_minor": 5
}
