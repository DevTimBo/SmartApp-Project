{
 "cells": [
  {
   "cell_type": "markdown",
   "source": [
    "# Pipeline Notebook \n",
    "Keep it simple please don't just change things here rather do:\n",
    "\n",
    "push ur own functions into .py files in the pipeline folder\n",
    "if you don't understand look example.py"
   ],
   "metadata": {
    "collapsed": false
   },
   "id": "e7d3ceb07fcdfc44"
  },
  {
   "cell_type": "code",
   "execution_count": 1,
   "outputs": [
    {
     "name": "stdout",
     "output_type": "stream",
     "text": [
      "WARNING:tensorflow:From C:\\Users\\timBo\\miniconda3\\envs\\Pipeline-Smartapp\\Lib\\site-packages\\keras\\src\\losses.py:2976: The name tf.losses.sparse_softmax_cross_entropy is deprecated. Please use tf.compat.v1.losses.sparse_softmax_cross_entropy instead.\n",
      "WARNING:tensorflow:From C:\\Users\\timBo\\miniconda3\\envs\\Pipeline-Smartapp\\Lib\\site-packages\\keras\\src\\backend.py:873: The name tf.get_default_graph is deprecated. Please use tf.compat.v1.get_default_graph instead.\n"
     ]
    }
   ],
   "source": [
    "import handwriting\n",
    "import keras\n",
    "import tensorflow as tf\n",
    "import preprocess"
   ],
   "metadata": {
    "collapsed": false,
    "ExecuteTime": {
     "end_time": "2023-12-13T12:11:56.280080800Z",
     "start_time": "2023-12-13T12:11:52.669266900Z"
    }
   },
   "id": "130fe1a34bbf0c03"
  },
  {
   "cell_type": "markdown",
   "source": [
    "## Bounding Box"
   ],
   "metadata": {
    "collapsed": false
   },
   "id": "97f29d7aacc4aa39"
  },
  {
   "cell_type": "markdown",
   "source": [
    "### Bounding Box Config"
   ],
   "metadata": {
    "collapsed": false
   },
   "id": "fbc611d575994aa8"
  },
  {
   "cell_type": "code",
   "execution_count": null,
   "outputs": [],
   "source": [
    "from bounding_box import bbox_training_v2 as bb"
   ],
   "metadata": {
    "collapsed": false
   },
   "id": "5e3b74effcc816bf"
  },
  {
   "cell_type": "markdown",
   "source": [
    "### Load Image"
   ],
   "metadata": {
    "collapsed": false
   },
   "id": "1375d80d5a0381a6"
  },
  {
   "cell_type": "code",
   "execution_count": null,
   "outputs": [],
   "source": [
    "# Loading Picture\n",
    " "
   ],
   "metadata": {
    "collapsed": false
   },
   "id": "a142e6a2a8a5f1e1"
  },
  {
   "cell_type": "markdown",
   "source": [
    "### Preprocess Image"
   ],
   "metadata": {
    "collapsed": false
   },
   "id": "f85ca61d6edfccef"
  },
  {
   "cell_type": "code",
   "execution_count": null,
   "outputs": [],
   "source": [
    "# Preprocessing Image "
   ],
   "metadata": {
    "collapsed": false
   },
   "id": "4aacdde6f3b2e805"
  },
  {
   "cell_type": "markdown",
   "source": [
    "### Bounding Box Detection Neural Network"
   ],
   "metadata": {
    "collapsed": false
   },
   "id": "ea00e0c467915a13"
  },
  {
   "cell_type": "code",
   "execution_count": null,
   "outputs": [],
   "source": [
    "# Neural Network Bounding Box maybe more than 1"
   ],
   "metadata": {
    "collapsed": false
   },
   "id": "3745c6fe6139193c"
  },
  {
   "cell_type": "markdown",
   "source": [
    "### ROI Crop"
   ],
   "metadata": {
    "collapsed": false
   },
   "id": "7580ef38cc7c8ffc"
  },
  {
   "cell_type": "code",
   "execution_count": null,
   "outputs": [],
   "source": [
    "# Crop ROI\n",
    "\n",
    "# added this cause Bounding Box is not finished nor is ROI finished\n",
    "image_paths = \"data/hallo.jpg\",\"data/hallo.jpg\"\n",
    "img_size=(preprocess.handwriting_img_w, preprocess.handwriting_img_h)\n",
    "images = []\n",
    "for image_path in image_paths:\n",
    "    image = tf.io.read_file(image_path)\n",
    "    image = tf.image.decode_png(image, 1)\n",
    "    image = preprocess.distortion_free_resize(image, img_size)\n",
    "    image = tf.cast(image, tf.float32) / 255.0\n",
    "    images.append(image)"
   ],
   "metadata": {
    "collapsed": false
   },
   "id": "9bcfb0dfd70010cb"
  },
  {
   "cell_type": "markdown",
   "source": [
    "### Plot ROI"
   ],
   "metadata": {
    "collapsed": false
   },
   "id": "4e833bedf786ed4d"
  },
  {
   "cell_type": "code",
   "execution_count": null,
   "outputs": [],
   "source": [],
   "metadata": {
    "collapsed": false
   },
   "id": "39f13e9bdf94fa05"
  },
  {
   "cell_type": "markdown",
   "source": [
    "## Handwriting Recognition"
   ],
   "metadata": {
    "collapsed": false
   },
   "id": "5a2274dd56bfb7ed"
  },
  {
   "cell_type": "markdown",
   "source": [
    "### Preprocess Image"
   ],
   "metadata": {
    "collapsed": false
   },
   "id": "1de32d50dd270d79"
  },
  {
   "cell_type": "code",
   "execution_count": null,
   "outputs": [],
   "source": [
    "# Preprocess Image\n"
   ],
   "metadata": {
    "collapsed": false
   },
   "id": "cfbcac4daa071012"
  },
  {
   "cell_type": "markdown",
   "source": [
    "### Handwriting Recognition Neural Network"
   ],
   "metadata": {
    "collapsed": false
   },
   "id": "5098d538d74bffb4"
  },
  {
   "cell_type": "code",
   "execution_count": null,
   "outputs": [],
   "source": [
    "# Neural Network Handwriting\n",
    "rnn = handwriting.handwriting_model()\n",
    "rnn.load_weights(\"handwriting_weights_alexej.keras\")\n",
    "prediction_model = keras.models.Model(rnn.get_layer(name=\"image\").input, rnn.get_layer(name=\"dense2\").output)\n",
    "predicted_texts = []\n",
    "# Prediction\n",
    "for image in images:\n",
    "    preds = prediction_model.predict(tf.expand_dims(image, axis=0))\n",
    "    pred_texts = handwriting.decode_batch_predictions(preds)\n",
    "    selected_pred_text = pred_texts[0]\n",
    "    selected_pred_text = selected_pred_text.replace(\"|\",\" \")\n",
    "    predicted_texts.append(selected_pred_text)"
   ],
   "metadata": {
    "collapsed": false
   },
   "id": "fd0422d0138b0426"
  },
  {
   "cell_type": "code",
   "execution_count": null,
   "outputs": [],
   "source": [
    "print(predicted_texts)\n",
    "predicted_texts.append(\"Hello wus\")"
   ],
   "metadata": {
    "collapsed": false
   },
   "id": "d16b2fe48bfeea2a"
  },
  {
   "cell_type": "markdown",
   "source": [
    "### Spell Checker"
   ],
   "metadata": {
    "collapsed": false
   },
   "id": "ae1d51aed43ff80a"
  },
  {
   "cell_type": "code",
   "execution_count": null,
   "outputs": [],
   "source": [
    "from spellchecker import SpellChecker\n",
    "\n",
    "# spell = SpellChecker()\n",
    "\n",
    "# Initialisierung des Spellcheckers für Deutsch\n",
    "spell = SpellChecker(language='de')\n",
    "\n",
    "# Hinzufügen von benutzerdefinierten Wörtern\n",
    "# custom_words = ['Colin', 'asddf']\n",
    "# spell.word_frequency.load_words(custom_words)\n",
    "\n",
    "# Verwendung einer Datei von häufigen Wörtern oder Fachbegriffen\n",
    "# with open('/data/custom_dictionary.txt') as f:\n",
    "#     custom_words = f.read().splitlines()\n",
    "# spell.word_frequency.load_words(custom_words)\n",
    "\n",
    "output_text = []\n",
    "for text in predicted_texts:\n",
    "     # Spellchecker\n",
    "    corrected_text = ' '.join([spell.correction(word) for word in text.split()])\n",
    "    output_text.append(corrected_text)\n",
    "     \n",
    "print(output_text)"
   ],
   "metadata": {
    "collapsed": false
   },
   "id": "f65f262700e8eca4"
  },
  {
   "cell_type": "markdown",
   "source": [],
   "metadata": {
    "collapsed": false
   },
   "id": "a1a4c0a65c89f07f"
  }
 ],
 "metadata": {
  "kernelspec": {
   "display_name": "Python 3",
   "language": "python",
   "name": "python3"
  },
  "language_info": {
   "codemirror_mode": {
    "name": "ipython",
    "version": 2
   },
   "file_extension": ".py",
   "mimetype": "text/x-python",
   "name": "python",
   "nbconvert_exporter": "python",
   "pygments_lexer": "ipython2",
   "version": "2.7.6"
  }
 },
 "nbformat": 4,
 "nbformat_minor": 5
}
