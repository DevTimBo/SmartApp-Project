{
 "cells": [
  {
   "cell_type": "markdown",
   "source": [
    "# Pipeline Notebook \n",
    "this is Tims property do not touch\n",
    "push ur own functions into .py files in the pipeline folder\n",
    "if you don't understand look example.py"
   ],
   "metadata": {
    "collapsed": false
   },
   "id": "e7d3ceb07fcdfc44"
  },
  {
   "cell_type": "code",
   "execution_count": 1,
   "outputs": [],
   "source": [
    "import handwriting\n",
    "import keras\n",
    "import tensorflow as tf\n",
    "import preprocess"
   ],
   "metadata": {
    "collapsed": false,
    "ExecuteTime": {
     "end_time": "2023-12-11T13:49:01.434344200Z",
     "start_time": "2023-12-11T13:48:58.977020Z"
    }
   },
   "id": "130fe1a34bbf0c03"
  },
  {
   "cell_type": "markdown",
   "source": [
    "## Bounding Box"
   ],
   "metadata": {
    "collapsed": false
   },
   "id": "97f29d7aacc4aa39"
  },
  {
   "cell_type": "markdown",
   "source": [
    "### Bounding Box Config"
   ],
   "metadata": {
    "collapsed": false
   },
   "id": "fbc611d575994aa8"
  },
  {
   "cell_type": "code",
   "execution_count": 1,
   "outputs": [],
   "source": [],
   "metadata": {
    "collapsed": false,
    "ExecuteTime": {
     "end_time": "2023-12-11T13:49:01.449344500Z",
     "start_time": "2023-12-11T13:49:01.435343200Z"
    }
   },
   "id": "27ff31b5effd8571"
  },
  {
   "cell_type": "markdown",
   "source": [
    "### Load Image"
   ],
   "metadata": {
    "collapsed": false
   },
   "id": "1375d80d5a0381a6"
  },
  {
   "cell_type": "code",
   "execution_count": 2,
   "outputs": [],
   "source": [
    "# Loading Picture"
   ],
   "metadata": {
    "collapsed": false,
    "ExecuteTime": {
     "end_time": "2023-12-11T13:49:01.468159700Z",
     "start_time": "2023-12-11T13:49:01.450343Z"
    }
   },
   "id": "a142e6a2a8a5f1e1"
  },
  {
   "cell_type": "markdown",
   "source": [
    "### Preprocess Image"
   ],
   "metadata": {
    "collapsed": false
   },
   "id": "f85ca61d6edfccef"
  },
  {
   "cell_type": "code",
   "execution_count": 3,
   "outputs": [],
   "source": [
    "# Preprocessing Image "
   ],
   "metadata": {
    "collapsed": false,
    "ExecuteTime": {
     "end_time": "2023-12-11T13:49:01.480159700Z",
     "start_time": "2023-12-11T13:49:01.466157200Z"
    }
   },
   "id": "4aacdde6f3b2e805"
  },
  {
   "cell_type": "markdown",
   "source": [
    "### Bounding Box Detection Neural Network"
   ],
   "metadata": {
    "collapsed": false
   },
   "id": "ea00e0c467915a13"
  },
  {
   "cell_type": "code",
   "execution_count": 4,
   "outputs": [],
   "source": [
    "# Neural Network Bounding Box maybe more than 1"
   ],
   "metadata": {
    "collapsed": false,
    "ExecuteTime": {
     "end_time": "2023-12-11T13:49:01.497306300Z",
     "start_time": "2023-12-11T13:49:01.482159800Z"
    }
   },
   "id": "3745c6fe6139193c"
  },
  {
   "cell_type": "markdown",
   "source": [
    "### ROI Crop"
   ],
   "metadata": {
    "collapsed": false
   },
   "id": "7580ef38cc7c8ffc"
  },
  {
   "cell_type": "code",
   "execution_count": 5,
   "outputs": [],
   "source": [
    "# Crop ROI\n",
    "\n",
    "# added this cause Bounding Box is not finished nor is ROI finished\n",
    "image_path = \"data/hallo.jpg\" \n",
    "img_size=(preprocess.handwriting_img_w, preprocess.handwriting_img_h)\n",
    "image = tf.io.read_file(image_path)"
   ],
   "metadata": {
    "collapsed": false,
    "ExecuteTime": {
     "end_time": "2023-12-11T13:49:01.528315300Z",
     "start_time": "2023-12-11T13:49:01.497306300Z"
    }
   },
   "id": "9bcfb0dfd70010cb"
  },
  {
   "cell_type": "markdown",
   "source": [
    "## Handwriting Recognition"
   ],
   "metadata": {
    "collapsed": false
   },
   "id": "5a2274dd56bfb7ed"
  },
  {
   "cell_type": "markdown",
   "source": [
    "### Preprocess Image"
   ],
   "metadata": {
    "collapsed": false
   },
   "id": "1de32d50dd270d79"
  },
  {
   "cell_type": "code",
   "execution_count": 6,
   "outputs": [],
   "source": [
    "# Preprocess Image\n",
    "image = tf.image.decode_png(image, 1)\n",
    "image = preprocess.distortion_free_resize(image, img_size)\n",
    "image = tf.cast(image, tf.float32) / 255.0"
   ],
   "metadata": {
    "collapsed": false,
    "ExecuteTime": {
     "end_time": "2023-12-11T13:49:01.543314900Z",
     "start_time": "2023-12-11T13:49:01.528315300Z"
    }
   },
   "id": "cfbcac4daa071012"
  },
  {
   "cell_type": "markdown",
   "source": [
    "### Handwriting Recognition Neural Network"
   ],
   "metadata": {
    "collapsed": false
   },
   "id": "5098d538d74bffb4"
  },
  {
   "cell_type": "code",
   "execution_count": 10,
   "outputs": [
    {
     "name": "stdout",
     "output_type": "stream",
     "text": [
      "1/1 [==============================] - 1s 795ms/step\n"
     ]
    }
   ],
   "source": [
    "# Neural Network Handwriting\n",
    "rnn = handwriting.handwriting_model()\n",
    "rnn.load_weights(\"handwriting_weights_alexej.keras\")\n",
    "prediction_model = keras.models.Model(rnn.get_layer(name=\"image\").input, rnn.get_layer(name=\"dense2\").output)\n",
    "\n",
    "# Predicition\n",
    "preds = prediction_model.predict(tf.expand_dims(image, axis=0))\n",
    "pred_texts = handwriting.decode_batch_predictions(preds)\n",
    "selected_pred_text = pred_texts[0]\n",
    "selected_pred_text = selected_pred_text.replace(\"|\",\" \")"
   ],
   "metadata": {
    "collapsed": false,
    "ExecuteTime": {
     "end_time": "2023-12-11T13:49:49.502138100Z",
     "start_time": "2023-12-11T13:49:47.881162700Z"
    }
   },
   "id": "fd0422d0138b0426"
  },
  {
   "cell_type": "code",
   "execution_count": 11,
   "outputs": [
    {
     "name": "stdout",
     "output_type": "stream",
     "text": [
      "Hallo was geht ! .\n"
     ]
    }
   ],
   "source": [
    "print(selected_pred_text)"
   ],
   "metadata": {
    "collapsed": false,
    "ExecuteTime": {
     "end_time": "2023-12-11T13:49:52.311527800Z",
     "start_time": "2023-12-11T13:49:52.295527900Z"
    }
   },
   "id": "d16b2fe48bfeea2a"
  },
  {
   "cell_type": "markdown",
   "source": [
    "### Spell Checker"
   ],
   "metadata": {
    "collapsed": false
   },
   "id": "ae1d51aed43ff80a"
  },
  {
   "cell_type": "code",
   "execution_count": 8,
   "outputs": [],
   "source": [
    "# Spell Checker"
   ],
   "metadata": {
    "collapsed": false,
    "ExecuteTime": {
     "end_time": "2023-12-11T13:49:08.745896500Z",
     "start_time": "2023-12-11T13:49:08.731709900Z"
    }
   },
   "id": "f65f262700e8eca4"
  },
  {
   "cell_type": "markdown",
   "source": [],
   "metadata": {
    "collapsed": false
   },
   "id": "a1a4c0a65c89f07f"
  }
 ],
 "metadata": {
  "kernelspec": {
   "display_name": "Python 3",
   "language": "python",
   "name": "python3"
  },
  "language_info": {
   "codemirror_mode": {
    "name": "ipython",
    "version": 2
   },
   "file_extension": ".py",
   "mimetype": "text/x-python",
   "name": "python",
   "nbconvert_exporter": "python",
   "pygments_lexer": "ipython2",
   "version": "2.7.6"
  }
 },
 "nbformat": 4,
 "nbformat_minor": 5
}
